{
  "nbformat": 4,
  "nbformat_minor": 0,
  "metadata": {
    "colab": {
      "provenance": [],
      "authorship_tag": "ABX9TyM2YL98cPDrOKYvNFS8wAMT"
    },
    "kernelspec": {
      "name": "python3",
      "display_name": "Python 3"
    },
    "language_info": {
      "name": "python"
    }
  },
  "cells": [
    {
      "cell_type": "code",
      "execution_count": 63,
      "metadata": {
        "colab": {
          "base_uri": "https://localhost:8080/"
        },
        "id": "e9zOkPQSYJy-",
        "outputId": "560f76b2-1b7b-4a98-9180-921854c8d1a4"
      },
      "outputs": [
        {
          "output_type": "stream",
          "name": "stdout",
          "text": [
            "Token ID 1 [{'trait_type': 'Type', 'value': 'Mutant Hound Collar'}]\n",
            "Token ID 2 [{'trait_type': 'Type', 'value': 'Mutant Hound Collar'}]\n",
            "Token ID 3 [{'trait_type': 'Type', 'value': 'Mutant Hound Collar'}]\n",
            "Token ID 4 [{'trait_type': 'Type', 'value': 'Mutant Hound Collar'}]\n",
            "Token ID 5 [{'trait_type': 'Type', 'value': 'Mutant Hound Collar'}]\n",
            "Token ID 6 [{'trait_type': 'Type', 'value': 'Mutant Hound Collar'}]\n",
            "Token ID 7 [{'trait_type': 'Type', 'value': 'Mutant Hound Collar'}]\n",
            "Token ID 8 [{'trait_type': 'Type', 'value': 'Mutant Hound Collar'}]\n",
            "Token ID 9 [{'trait_type': 'Type', 'value': 'Mutant Hound Collar'}]\n",
            "Token ID 10 [{'trait_type': 'Type', 'value': 'Mutant Hound Collar'}]\n"
          ]
        }
      ],
      "source": [
        "from urllib.request import urlopen\n",
        "import ssl\n",
        "import json\n",
        "\n",
        "ctx = ssl.create_default_context()\n",
        "ctx.check_hostname = False\n",
        "ctx.verify_mode = ssl.CERT_NONE\n",
        "\n",
        "#NFT URL found in read contract section on Etherscan\n",
        "token_url = 'https://ipfs.io/ipfs/bafybeigsr2hpotqmmgbdb7bkbs63rx77bqdcyjc3y2y5t7dw2ermjoaymy/'\n",
        "\n",
        "nft_count = 10\n",
        "count = 0\n",
        "\n",
        "for line in range(0, nft_count):\n",
        "  count +=1\n",
        "  url = 'https://ipfs.io/ipfs/bafybeigsr2hpotqmmgbdb7bkbs63rx77bqdcyjc3y2y5t7dw2ermjoaymy/' + str(count)\n",
        "  html = urlopen(url, context=ctx).read()\n",
        "  data = html.decode()\n",
        "  js = json.loads(data)\n",
        "  print(\"Token ID\",count, js['attributes'])\n"
      ]
    }
  ]
}